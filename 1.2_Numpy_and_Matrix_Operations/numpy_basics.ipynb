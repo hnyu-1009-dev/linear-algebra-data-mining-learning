{
 "cells": [
  {
   "cell_type": "code",
   "execution_count": 2,
   "id": "333faeca",
   "metadata": {},
   "outputs": [],
   "source": [
    "# 导入numpy模块\n",
    "import numpy as np"
   ]
  },
  {
   "cell_type": "code",
   "execution_count": null,
   "id": "8030d7a9",
   "metadata": {},
   "outputs": [
    {
     "name": "stdout",
     "output_type": "stream",
     "text": [
      "[[1 2 3]\n",
      " [4 5 6]]\n"
     ]
    }
   ],
   "source": [
    "test_array1 = np.array([[1, 2, 3], [4, 5, 6]]) #()内必须存放可迭代对象，如列表或元组\n",
    "print(test_array1)"
   ]
  },
  {
   "cell_type": "code",
   "execution_count": 7,
   "id": "b825711f",
   "metadata": {},
   "outputs": [
    {
     "name": "stdout",
     "output_type": "stream",
     "text": [
      "[1 2]\n"
     ]
    }
   ],
   "source": [
    "test_array2 = np.array((1,2)) #\n",
    "print(test_array2)"
   ]
  }
 ],
 "metadata": {
  "kernelspec": {
   "display_name": "Python 3",
   "language": "python",
   "name": "python3"
  },
  "language_info": {
   "codemirror_mode": {
    "name": "ipython",
    "version": 3
   },
   "file_extension": ".py",
   "mimetype": "text/x-python",
   "name": "python",
   "nbconvert_exporter": "python",
   "pygments_lexer": "ipython3",
   "version": "3.11.9"
  }
 },
 "nbformat": 4,
 "nbformat_minor": 5
}

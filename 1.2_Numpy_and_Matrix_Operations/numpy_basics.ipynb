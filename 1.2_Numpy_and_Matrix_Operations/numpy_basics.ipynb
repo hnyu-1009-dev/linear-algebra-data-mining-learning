{
 "cells": [
  {
   "cell_type": "code",
   "execution_count": 2,
   "id": "333faeca",
   "metadata": {},
   "outputs": [],
   "source": [
    "# 导入numpy模块\n",
    "import numpy as np"
   ]
  },
  {
   "cell_type": "code",
   "execution_count": 8,
   "id": "8030d7a9",
   "metadata": {},
   "outputs": [
    {
     "name": "stdout",
     "output_type": "stream",
     "text": [
      "[1 2 3 4 5]\n",
      "<class 'numpy.ndarray'>\n"
     ]
    }
   ],
   "source": [
    "# 创建 Python 列表\n",
    "data = [1, 2, 3, 4, 5]\n",
    "# 转换为 NumPy 数组\n",
    "arr = np.array(data)\n",
    "\n",
    "print(arr)\n",
    "print(type(arr))\n"
   ]
  },
  {
   "cell_type": "code",
   "execution_count": null,
   "id": "b825711f",
   "metadata": {},
   "outputs": [
    {
     "name": "stdout",
     "output_type": "stream",
     "text": [
      "[[1 2 3]\n",
      " [4 5 6]]\n",
      "3\n"
     ]
    }
   ],
   "source": [
    "# 嵌套创建二维数组\n",
    "arr2d = np.array([[1, 2, 3],\n",
    "                  [4, 5, 6]])\n",
    "\n",
    "print(arr2d)\n",
    "# 💡 NumPy 中二维数组就相当于「矩阵」，支持行列运算。\n",
    "print(\"这是二维数组中的第一行第三列\",arr2d[0,2])"
   ]
  },
  {
   "cell_type": "code",
   "execution_count": 10,
   "id": "aa313480",
   "metadata": {},
   "outputs": [
    {
     "name": "stdout",
     "output_type": "stream",
     "text": [
      "\n",
      "zeros:\n",
      " [[0. 0. 0.]\n",
      " [0. 0. 0.]]\n",
      "ones:\n",
      " [[1. 1.]\n",
      " [1. 1.]\n",
      " [1. 1.]]\n",
      "full:\n",
      " [[9 9]\n",
      " [9 9]]\n",
      "eye:\n",
      " [[1. 0. 0.]\n",
      " [0. 1. 0.]\n",
      " [0. 0. 1.]]\n",
      "arange:\n",
      " [0 2 4 6 8]\n",
      "linspace:\n",
      " [0.   0.25 0.5  0.75 1.  ]\n"
     ]
    }
   ],
   "source": [
    "import numpy as np\n",
    "#  内置函数创建数组\n",
    "zeros = np.zeros((2, 3))\n",
    "ones = np.ones((3, 2))\n",
    "full = np.full((2, 2), 9)\n",
    "eye = np.eye(3)\n",
    "arange_arr = np.arange(0, 10, 2)\n",
    "linspace_arr = np.linspace(0, 1, 5)\n",
    "\n",
    "print(\"\\nzeros:\\n\", zeros)\n",
    "print(\"ones:\\n\", ones)\n",
    "print(\"full:\\n\", full)\n",
    "print(\"eye:\\n\", eye)\n",
    "print(\"arange:\\n\", arange_arr)\n",
    "print(\"linspace:\\n\", linspace_arr)"
   ]
  },
  {
   "cell_type": "code",
   "execution_count": null,
   "id": "983d5fd7",
   "metadata": {},
   "outputs": [
    {
     "ename": "NameError",
     "evalue": "name 'np' is not defined",
     "output_type": "error",
     "traceback": [
      "\u001b[31m---------------------------------------------------------------------------\u001b[39m",
      "\u001b[31mNameError\u001b[39m                                 Traceback (most recent call last)",
      "\u001b[36mCell\u001b[39m\u001b[36m \u001b[39m\u001b[32mIn[3]\u001b[39m\u001b[32m, line 2\u001b[39m\n\u001b[32m      1\u001b[39m \u001b[38;5;66;03m# 1.3 随机数组\u001b[39;00m\n\u001b[32m----> \u001b[39m\u001b[32m2\u001b[39m rand = \u001b[43mnp\u001b[49m.random.rand(\u001b[32m2\u001b[39m, \u001b[32m3\u001b[39m)\n\u001b[32m      3\u001b[39m randint_arr = np.random.randint(\u001b[32m0\u001b[39m, \u001b[32m10\u001b[39m, (\u001b[32m2\u001b[39m, \u001b[32m3\u001b[39m))\n\u001b[32m      4\u001b[39m \u001b[38;5;28mprint\u001b[39m(\u001b[33m\"\u001b[39m\u001b[38;5;130;01m\\n\u001b[39;00m\u001b[33mrand:\u001b[39m\u001b[38;5;130;01m\\n\u001b[39;00m\u001b[33m\"\u001b[39m, rand)\n",
      "\u001b[31mNameError\u001b[39m: name 'np' is not defined"
     ]
    }
   ],
   "source": [
    "#  随机数组\n",
    "rand = np.random.rand(2, 3)\n",
    "randint_arr = np.random.randint(0, 10, (2, 3))\n",
    "print(\"\\nrand:\\n\", rand)\n",
    "print(\"randint:\\n\", randint_arr)"
   ]
  },
  {
   "cell_type": "code",
   "execution_count": null,
   "id": "ff843649",
   "metadata": {},
   "outputs": [],
   "source": [
    "#  数组属性\n",
    "arr_attr = np.array([[1, 2, 3], [4, 5, 6]])\n",
    "print(\"\\n维度数:\", arr_attr.ndim)\n",
    "print(\"形状:\", arr_attr.shape)\n",
    "print(\"元素总数:\", arr_attr.size)\n",
    "print(\"数据类型:\", arr_attr.dtype)"
   ]
  },
  {
   "cell_type": "code",
   "execution_count": 5,
   "id": "bd80d4fa",
   "metadata": {},
   "outputs": [
    {
     "ename": "NameError",
     "evalue": "name 'np' is not defined",
     "output_type": "error",
     "traceback": [
      "\u001b[31m---------------------------------------------------------------------------\u001b[39m",
      "\u001b[31mNameError\u001b[39m                                 Traceback (most recent call last)",
      "\u001b[36mCell\u001b[39m\u001b[36m \u001b[39m\u001b[32mIn[5]\u001b[39m\u001b[32m, line 2\u001b[39m\n\u001b[32m      1\u001b[39m \u001b[38;5;66;03m#  类型转换\u001b[39;00m\n\u001b[32m----> \u001b[39m\u001b[32m2\u001b[39m arr_float = \u001b[43mnp\u001b[49m.array([\u001b[32m1.5\u001b[39m, \u001b[32m2.8\u001b[39m, \u001b[32m3.2\u001b[39m])\n\u001b[32m      3\u001b[39m arr_int = arr_float.astype(\u001b[38;5;28mint\u001b[39m)\n\u001b[32m      4\u001b[39m \u001b[38;5;28mprint\u001b[39m(\u001b[33m\"\u001b[39m\u001b[38;5;130;01m\\n\u001b[39;00m\u001b[33m类型转换示例:\u001b[39m\u001b[33m\"\u001b[39m)\n",
      "\u001b[31mNameError\u001b[39m: name 'np' is not defined"
     ]
    }
   ],
   "source": [
    "#  类型转换\n",
    "arr_float = np.array([1.5, 2.8, 3.2])\n",
    "arr_int = arr_float.astype(int)\n",
    "print(\"\\n类型转换示例:\")\n",
    "print(\"原数组:\", arr_float)\n",
    "print(\"转换后:\", arr_int)"
   ]
  },
  {
   "cell_type": "code",
   "execution_count": 6,
   "id": "b009e7ac",
   "metadata": {},
   "outputs": [
    {
     "ename": "NameError",
     "evalue": "name 'np' is not defined",
     "output_type": "error",
     "traceback": [
      "\u001b[31m---------------------------------------------------------------------------\u001b[39m",
      "\u001b[31mNameError\u001b[39m                                 Traceback (most recent call last)",
      "\u001b[36mCell\u001b[39m\u001b[36m \u001b[39m\u001b[32mIn[6]\u001b[39m\u001b[32m, line 2\u001b[39m\n\u001b[32m      1\u001b[39m \u001b[38;5;66;03m#  一维索引\u001b[39;00m\n\u001b[32m----> \u001b[39m\u001b[32m2\u001b[39m a = \u001b[43mnp\u001b[49m.array([\u001b[32m10\u001b[39m, \u001b[32m20\u001b[39m, \u001b[32m30\u001b[39m, \u001b[32m40\u001b[39m, \u001b[32m50\u001b[39m])\n\u001b[32m      3\u001b[39m \u001b[38;5;28mprint\u001b[39m(\u001b[33m\"\u001b[39m\u001b[38;5;130;01m\\n\u001b[39;00m\u001b[33m原数组:\u001b[39m\u001b[33m\"\u001b[39m, a)\n\u001b[32m      4\u001b[39m \u001b[38;5;28mprint\u001b[39m(\u001b[33m\"\u001b[39m\u001b[33ma[0]:\u001b[39m\u001b[33m\"\u001b[39m, a[\u001b[32m0\u001b[39m])\n",
      "\u001b[31mNameError\u001b[39m: name 'np' is not defined"
     ]
    }
   ],
   "source": [
    "#  一维索引\n",
    "a = np.array([10, 20, 30, 40, 50])\n",
    "print(\"\\n原数组:\", a)\n",
    "print(\"a[0]:\", a[0])\n",
    "print(\"a[-1]:\", a[-1])\n",
    "print(\"a[1:4]:\", a[1:4])\n",
    "print(\"a[:3]:\", a[:3])\n",
    "print(\"a[::2]:\", a[::2])"
   ]
  },
  {
   "cell_type": "code",
   "execution_count": 7,
   "id": "faec2078",
   "metadata": {},
   "outputs": [
    {
     "ename": "NameError",
     "evalue": "name 'np' is not defined",
     "output_type": "error",
     "traceback": [
      "\u001b[31m---------------------------------------------------------------------------\u001b[39m",
      "\u001b[31mNameError\u001b[39m                                 Traceback (most recent call last)",
      "\u001b[36mCell\u001b[39m\u001b[36m \u001b[39m\u001b[32mIn[7]\u001b[39m\u001b[32m, line 2\u001b[39m\n\u001b[32m      1\u001b[39m \u001b[38;5;66;03m#  二维索引\u001b[39;00m\n\u001b[32m----> \u001b[39m\u001b[32m2\u001b[39m b = \u001b[43mnp\u001b[49m.array([[\u001b[32m1\u001b[39m, \u001b[32m2\u001b[39m, \u001b[32m3\u001b[39m],\n\u001b[32m      3\u001b[39m               [\u001b[32m4\u001b[39m, \u001b[32m5\u001b[39m, \u001b[32m6\u001b[39m],\n\u001b[32m      4\u001b[39m               [\u001b[32m7\u001b[39m, \u001b[32m8\u001b[39m, \u001b[32m9\u001b[39m]])\n\u001b[32m      5\u001b[39m \u001b[38;5;28mprint\u001b[39m(\u001b[33m\"\u001b[39m\u001b[38;5;130;01m\\n\u001b[39;00m\u001b[33m二维数组:\u001b[39m\u001b[38;5;130;01m\\n\u001b[39;00m\u001b[33m\"\u001b[39m, b)\n\u001b[32m      6\u001b[39m \u001b[38;5;28mprint\u001b[39m(\u001b[33m\"\u001b[39m\u001b[33mb[0,0]:\u001b[39m\u001b[33m\"\u001b[39m, b[\u001b[32m0\u001b[39m, \u001b[32m0\u001b[39m])\n",
      "\u001b[31mNameError\u001b[39m: name 'np' is not defined"
     ]
    }
   ],
   "source": [
    "#  二维索引\n",
    "b = np.array([[1, 2, 3],\n",
    "              [4, 5, 6],\n",
    "              [7, 8, 9]])\n",
    "print(\"\\n二维数组:\\n\", b)\n",
    "print(\"b[0,0]:\", b[0, 0])\n",
    "print(\"b[1,2]:\", b[1, 2])\n",
    "print(\"b[2,:]:\", b[2, :])\n",
    "print(\"b[:,1]:\", b[:, 1])"
   ]
  },
  {
   "cell_type": "code",
   "execution_count": 8,
   "id": "fb73fe91",
   "metadata": {},
   "outputs": [
    {
     "ename": "NameError",
     "evalue": "name 'np' is not defined",
     "output_type": "error",
     "traceback": [
      "\u001b[31m---------------------------------------------------------------------------\u001b[39m",
      "\u001b[31mNameError\u001b[39m                                 Traceback (most recent call last)",
      "\u001b[36mCell\u001b[39m\u001b[36m \u001b[39m\u001b[32mIn[8]\u001b[39m\u001b[32m, line 2\u001b[39m\n\u001b[32m      1\u001b[39m \u001b[38;5;66;03m# 切片与视图\u001b[39;00m\n\u001b[32m----> \u001b[39m\u001b[32m2\u001b[39m c = \u001b[43mnp\u001b[49m.array([\u001b[32m1\u001b[39m, \u001b[32m2\u001b[39m, \u001b[32m3\u001b[39m, \u001b[32m4\u001b[39m, \u001b[32m5\u001b[39m])\n\u001b[32m      3\u001b[39m d = c[\u001b[32m1\u001b[39m:\u001b[32m4\u001b[39m]\n\u001b[32m      4\u001b[39m d[:] = \u001b[32m0\u001b[39m\n",
      "\u001b[31mNameError\u001b[39m: name 'np' is not defined"
     ]
    }
   ],
   "source": [
    "# 切片与视图\n",
    "c = np.array([1, 2, 3, 4, 5])\n",
    "d = c[1:4]\n",
    "d[:] = 0\n",
    "print(\"\\n修改切片视图后的原数组:\", c)\n",
    "\n",
    "# 复制切片\n",
    "e = c[1:4].copy()\n",
    "e[:] = 9\n",
    "print(\"深拷贝不影响原数组:\")\n",
    "print(\"c:\", c)\n",
    "print(\"e:\", e)"
   ]
  },
  {
   "cell_type": "code",
   "execution_count": 9,
   "id": "35c01fa5",
   "metadata": {},
   "outputs": [
    {
     "ename": "NameError",
     "evalue": "name 'np' is not defined",
     "output_type": "error",
     "traceback": [
      "\u001b[31m---------------------------------------------------------------------------\u001b[39m",
      "\u001b[31mNameError\u001b[39m                                 Traceback (most recent call last)",
      "\u001b[36mCell\u001b[39m\u001b[36m \u001b[39m\u001b[32mIn[9]\u001b[39m\u001b[32m, line 2\u001b[39m\n\u001b[32m      1\u001b[39m \u001b[38;5;66;03m#  花式索引\u001b[39;00m\n\u001b[32m----> \u001b[39m\u001b[32m2\u001b[39m a = \u001b[43mnp\u001b[49m.array([\u001b[32m10\u001b[39m, \u001b[32m20\u001b[39m, \u001b[32m30\u001b[39m, \u001b[32m40\u001b[39m, \u001b[32m50\u001b[39m])\n\u001b[32m      3\u001b[39m idx = [\u001b[32m0\u001b[39m, \u001b[32m2\u001b[39m, \u001b[32m4\u001b[39m]\n\u001b[32m      4\u001b[39m \u001b[38;5;28mprint\u001b[39m(\u001b[33m\"\u001b[39m\u001b[38;5;130;01m\\n\u001b[39;00m\u001b[33m花式索引结果:\u001b[39m\u001b[33m\"\u001b[39m, a[idx])\n",
      "\u001b[31mNameError\u001b[39m: name 'np' is not defined"
     ]
    }
   ],
   "source": [
    "#  花式索引\n",
    "a = np.array([10, 20, 30, 40, 50])\n",
    "idx = [0, 2, 4]\n",
    "print(\"\\n花式索引结果:\", a[idx])\n",
    "\n",
    "b = np.arange(12).reshape(3, 4)\n",
    "print(\"二维花式索引:\", b[[0, 2], [1, 3]])"
   ]
  },
  {
   "cell_type": "code",
   "execution_count": 11,
   "id": "323aedb4",
   "metadata": {},
   "outputs": [
    {
     "name": "stdout",
     "output_type": "stream",
     "text": [
      "\n",
      "加法: [11 22 33 44]\n",
      "减法: [ -9 -18 -27 -36]\n",
      "乘法: [ 10  40  90 160]\n",
      "除法: [10. 10. 10. 10.]\n"
     ]
    }
   ],
   "source": [
    "#  基本算术运算\n",
    "a = np.array([1, 2, 3, 4])\n",
    "b = np.array([10, 20, 30, 40])\n",
    "print(\"\\n加法:\", a + b)\n",
    "print(\"减法:\", a - b)\n",
    "print(\"乘法:\", a * b)\n",
    "print(\"除法:\", b / a)"
   ]
  },
  {
   "cell_type": "code",
   "execution_count": 12,
   "id": "72c53418",
   "metadata": {},
   "outputs": [
    {
     "name": "stdout",
     "output_type": "stream",
     "text": [
      "\n",
      "标量乘法: [ 2  4  6  8 10]\n",
      "标量加法: [11 12 13 14 15]\n"
     ]
    }
   ],
   "source": [
    "# 数组与标量\n",
    "arr = np.array([1, 2, 3, 4, 5])\n",
    "print(\"\\n标量乘法:\", arr * 2)\n",
    "print(\"标量加法:\", arr + 10)"
   ]
  },
  {
   "cell_type": "code",
   "execution_count": 13,
   "id": "390580f8",
   "metadata": {},
   "outputs": [
    {
     "name": "stdout",
     "output_type": "stream",
     "text": [
      "\n",
      "平方根: [0.         1.         1.41421356 1.73205081]\n",
      "指数: [ 1.          2.71828183  7.3890561  20.08553692]\n",
      "正弦: [0.         0.84147098 0.90929743 0.14112001]\n",
      "对数: [0.         0.69314718 1.09861229 1.38629436]\n",
      "\n",
      "广播结果:\n",
      " [[11 12 13]\n",
      " [21 22 23]\n",
      " [31 32 33]]\n"
     ]
    }
   ],
   "source": [
    "#  通用函数 ufunc\n",
    "arr = np.array([0, 1, 2, 3])\n",
    "print(\"\\n平方根:\", np.sqrt(arr))\n",
    "print(\"指数:\", np.exp(arr))\n",
    "print(\"正弦:\", np.sin(arr))\n",
    "print(\"对数:\", np.log(arr + 1))\n",
    "\n",
    "#  广播机制\n",
    "a = np.array([1, 2, 3])\n",
    "b = np.array([[10], [20], [30]])\n",
    "print(\"\\n广播结果:\\n\", a + b)"
   ]
  },
  {
   "cell_type": "code",
   "execution_count": 14,
   "id": "3680a55d",
   "metadata": {},
   "outputs": [
    {
     "name": "stdout",
     "output_type": "stream",
     "text": [
      "\n",
      "相等判断: [False  True False]\n",
      "大于判断: [False False  True]\n",
      "逻辑与: [ True  True  True]\n",
      "\n",
      "总和: 21\n",
      "均值: 3.5\n",
      "最大值: 6\n",
      "最小值: 1\n",
      "标准差: 1.707825127659933\n",
      "方差: 2.9166666666666665\n",
      "按列求和: [5 7 9]\n",
      "按行求和: [ 6 15]\n"
     ]
    }
   ],
   "source": [
    "#  逻辑比较\n",
    "a = np.array([1, 2, 3])\n",
    "b = np.array([2, 2, 2])\n",
    "print(\"\\n相等判断:\", a == b)\n",
    "print(\"大于判断:\", a > b)\n",
    "print(\"逻辑与:\", np.logical_and(a > 0, b < 3))\n",
    "\n",
    "#  统计运算\n",
    "arr = np.array([[1, 2, 3],\n",
    "                [4, 5, 6]])\n",
    "print(\"\\n总和:\", arr.sum())\n",
    "print(\"均值:\", arr.mean())\n",
    "print(\"最大值:\", arr.max())\n",
    "print(\"最小值:\", arr.min())\n",
    "print(\"标准差:\", arr.std())\n",
    "print(\"方差:\", arr.var())\n",
    "print(\"按列求和:\", arr.sum(axis=0))\n",
    "print(\"按行求和:\", arr.sum(axis=1))"
   ]
  },
  {
   "cell_type": "code",
   "execution_count": null,
   "id": "dfa681e5",
   "metadata": {},
   "outputs": [],
   "source": [
    "# 矩阵乘法\n",
    "a = np.array([[1, 2],\n",
    "              [3, 4]])\n",
    "b = np.array([[5, 6],\n",
    "              [7, 8]])\n",
    "print(\"\\n矩阵乘法:\\n\", np.dot(a, b))\n",
    "print(\"使用 @ 运算符:\\n\", a @ b)\n",
    "\n",
    "#  其他常用函数\n",
    "arr = np.array([10, 5, 8, 5, 10])\n",
    "print(\"\\n去重:\", np.unique(arr))\n",
    "print(\"排序:\", np.sort(arr))\n",
    "print(\"排序索引:\", np.argsort(arr))\n",
    "print(\"元素范围限制:\", np.clip(arr, 6, 9))\n",
    "print(\"四舍五入:\", np.round(np.array([1.234, 2.567]), 1))"
   ]
  }
 ],
 "metadata": {
  "kernelspec": {
   "display_name": "Python 3",
   "language": "python",
   "name": "python3"
  },
  "language_info": {
   "codemirror_mode": {
    "name": "ipython",
    "version": 3
   },
   "file_extension": ".py",
   "mimetype": "text/x-python",
   "name": "python",
   "nbconvert_exporter": "python",
   "pygments_lexer": "ipython3",
   "version": "3.11.9"
  }
 },
 "nbformat": 4,
 "nbformat_minor": 5
}

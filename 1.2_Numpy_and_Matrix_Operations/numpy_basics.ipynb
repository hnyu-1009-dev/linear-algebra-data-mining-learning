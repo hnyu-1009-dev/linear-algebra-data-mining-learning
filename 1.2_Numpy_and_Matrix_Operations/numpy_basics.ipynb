{
 "cells": [
  {
   "cell_type": "code",
   "execution_count": 37,
   "id": "abc81763",
   "metadata": {},
   "outputs": [],
   "source": [
    "#导入numpy\n",
    "import numpy as np\n",
    "#创建一个一维数组\n",
    "arr = np.array([1, 2, 3, 4, 5])\n"
   ]
  },
  {
   "cell_type": "markdown",
   "id": "2fa89807",
   "metadata": {},
   "source": [
    "1. Ndarray数组所有元素的数据类型相同、数据地址连续，批量操作数组元素时速度更快，而list中元素的数据类型可能不同，需要通过寻址的方式找到下一个元素。\n",
    "2. Ndarray数组支持广播机制，矩阵运算时不需要写for循环。\n",
    "3. 底层主要使用C语言实现，运行速度远高于Python代码。"
   ]
  },
  {
   "cell_type": "code",
   "execution_count": 38,
   "id": "22e9e022",
   "metadata": {},
   "outputs": [
    {
     "name": "stdout",
     "output_type": "stream",
     "text": [
      "[1, 2, 3, 4, 5]\n",
      "[2, 3, 4, 5, 6]\n"
     ]
    }
   ],
   "source": [
    "# 实现 a + 1 的运算\n",
    "# 使用python语法不支持对列表进行加1操作\n",
    "# list 的 + 1 必须视同for循环\n",
    "a_list = [1, 2, 3, 4, 5]\n",
    "print(a_list)\n",
    "for i in range(len(a_list)):\n",
    "    a_list[i] += 1\n",
    "print(a_list)\n",
    "# 输出: [2, 3, 4, 5, 6]   \n"
   ]
  },
  {
   "cell_type": "code",
   "execution_count": 39,
   "id": "43d2f2cd",
   "metadata": {},
   "outputs": [
    {
     "name": "stdout",
     "output_type": "stream",
     "text": [
      "[2 3 4 5 6]\n"
     ]
    }
   ],
   "source": [
    "# 使用Ndarray实现完成对数组中的每一个元素进行+1的操作\n",
    "arr = np.array([1, 2, 3, 4, 5])\n",
    "# Numpy数组可以直接进行+1操作，他会令数组中的所有元素都去进行+1的操作\n",
    "arr +=1\n",
    "print(arr)"
   ]
  },
  {
   "cell_type": "code",
   "execution_count": 40,
   "id": "6c438433",
   "metadata": {},
   "outputs": [
    {
     "name": "stdout",
     "output_type": "stream",
     "text": [
      "这是合并后的数组 [5, 7, 9]\n"
     ]
    }
   ],
   "source": [
    "# 实现 a +b 的运算\n",
    "# 使用list完成两个列表元素的加法\n",
    "a  = [1, 2, 3]\n",
    "b  = [4, 5, 6]\n",
    "c = []\n",
    "for i in range(len(a)):\n",
    "    c.append(a[i] + b[i])\n",
    "print(\"这是合并后的数组\",c)\n",
    "# 输出: [5, 7, 9]\n"
   ]
  },
  {
   "cell_type": "code",
   "execution_count": 41,
   "id": "bb6d5178",
   "metadata": {},
   "outputs": [
    {
     "name": "stdout",
     "output_type": "stream",
     "text": [
      "这是合并后的数组 [5 7 9]\n"
     ]
    }
   ],
   "source": [
    "# 使用Ndarray完成两个数组的加法\n",
    "a = np.array([1, 2, 3])\n",
    "b = np.array([4, 5, 6])\n",
    "c = a + b\n",
    "print(\"这是合并后的数组\",c)"
   ]
  },
  {
   "cell_type": "code",
   "execution_count": 42,
   "id": "510708e5",
   "metadata": {},
   "outputs": [
    {
     "name": "stdout",
     "output_type": "stream",
     "text": [
      "[1 2 3 4 5 6]\n"
     ]
    }
   ],
   "source": [
    "# array 函数创建Ndarray数组\n",
    "# array函数的参数\n",
    "numpy_array = np.array(object = [1,2,3,4,5,6], dtype=None, copy=True, order='K', subok=False, ndmin=0)\n",
    "print(numpy_array)"
   ]
  },
  {
   "cell_type": "markdown",
   "id": "ac15e5cd",
   "metadata": {},
   "source": [
    "- 1.object：表示要转换为数组的数据，可以是列表元组数组等可迭代对象\n",
    "- 2.dtype：可以指定数组的数据类型，如果未指定，则根据输入数据自动推断\n",
    "- 3.copy：如果为TRUE，则赋值输入数据；如果为false，则只有必要时才复制，这意味着如果object已经是一个Numpy数组并且满足dtype要求，则不会创建数据的副本，默认为true\n",
    "- 4.order：指定多维数组在内存中的存储顺序，'C'表示按行优先存储，'F'表示按列优先存储，'A'表示按输入数据的顺序存储，'K'表示尽可能保持输入数据的顺序\n",
    "- 5.subok：如果为true，则生成的数组将使用输入数组的子类类型；如果为false，则生成的数组将始终是基类Numpy数组\n",
    "- 6.ndmin：指定生成数组的最小维数，如果输入数据的维数小于ndmin，则在前面添加新的轴以满足最小维数要求\n"
   ]
  },
  {
   "cell_type": "code",
   "execution_count": 43,
   "id": "e1da7042",
   "metadata": {},
   "outputs": [
    {
     "name": "stdout",
     "output_type": "stream",
     "text": [
      "1. object: [1 2 3]\n",
      "\n",
      "2.dtype 制定类型为 int: [1 2 3]\n",
      "\n",
      "3.copy = False 时 : [99  2  3]\n",
      "\n",
      "3.copy = True 时 : [1 2 3]\n",
      "\n",
      "4.order = 'C' 时:\n",
      " [[1 2 3]\n",
      " [4 5 6]] \n",
      " 元素线性顺序为：[1, 2, 3, 4, 5, 6]\n",
      "\n",
      "4.order = 'F' 时:\n",
      " [[1 2 3]\n",
      " [4 5 6]] \n",
      " 元素线性顺序为：[1, 4, 2, 5, 3, 6]\n",
      "\n",
      "5. subok=True：类型 -> <class '__main__.MyArray'>\n",
      "   subok=False：类型 -> <class 'numpy.ndarray'>\n",
      "\n",
      "6. ndmin=3：shape -> (1, 1, 3)\n",
      "[[[1 2 3]]]\n"
     ]
    }
   ],
   "source": [
    "# 1️⃣ object：要转换为数组的数据\n",
    "# 可以是列表、元组、嵌套列表等\n",
    "a = np.array([1, 2, 3])\n",
    "print(\"1. object:\", a)\n",
    "# 2️⃣ dtype：指定数组的数据类型\n",
    "b = np.array([1.2,2.3,3.4], dtype=int)\n",
    "print(\"\\n2.dtype 制定类型为 int:\", b)\n",
    "# 3️⃣ copy：是否复制数据\n",
    "c_source = np.array([1,2,3])\n",
    "c = np.array(c_source, copy=False)  #不复制\n",
    "# 浅拷贝？\n",
    "c_source[0] = 99  # 改变原数组\n",
    "print(\"\\n3.copy = False 时 :\", c)  # 视图也改变\n",
    "\n",
    "d_source = np.array([1,2,3])\n",
    "d = np.array(d_source, copy=True)  # 复制\n",
    "# 深拷贝？\n",
    "d_source[0] = 88  # 改变原数组\n",
    "print(\"\\n3.copy = True 时 :\", d)  # 视图不变\n",
    "# 4️⃣ order：指定内存存储顺序\n",
    "e_c = np.array([[1,2,3],[4,5,6]], order='C')  # 按行存储\n",
    "e_f = np.array([[1,2,3],[4,5,6]], order='F')  # 按列存储\n",
    "print(\"\\n4.order = 'C' 时:\\n\", e_c,\"\\n 元素线性顺序为：[1, 2, 3, 4, 5, 6]\")\n",
    "print(\"\\n4.order = 'F' 时:\\n\", e_f,\"\\n 元素线性顺序为：[1, 4, 2, 5, 3, 6]\")\n",
    "# 5️⃣ subok：是否使用子类\n",
    "class MyArray(np.ndarray):\n",
    "    pass\n",
    "\n",
    "x = np.array([1, 2, 3]).view(MyArray)\n",
    "f1 = np.array(x, subok=True)   # 保留子类\n",
    "f2 = np.array(x, subok=False)  # 转回普通 ndarray\n",
    "print(\"\\n5. subok=True：类型 ->\", type(f1))\n",
    "print(\"   subok=False：类型 ->\", type(f2))\n",
    "\n",
    "# 6️⃣ ndmin：指定最小维数\n",
    "g = np.array([1, 2, 3], ndmin=3)\n",
    "print(\"\\n6. ndmin=3：shape ->\", g.shape)\n",
    "print(g)"
   ]
  },
  {
   "cell_type": "markdown",
   "id": "16f2e7c0",
   "metadata": {},
   "source": []
  },
  {
   "cell_type": "markdown",
   "id": "91e4f073",
   "metadata": {},
   "source": [
    "- arrange 函数创建Ndarray数组\n",
    "- numpy.arrange(start=0, stop, step=1, dtype=None)\n",
    "1. start: 可选参数，表示数组的起始值。 默认值为0\n",
    "2. stop: 必须参数，表示数组的结束值（不包含该值）\n",
    "3. step：可选参数，表示相邻两个值的差值，默认值为1。\n",
    "4. dtype: 可选参数，表示返回数组的数据类型，如果没有指定，则根据其他参数推断数据类型"
   ]
  }
 ],
 "metadata": {
  "kernelspec": {
   "display_name": "Python 3",
   "language": "python",
   "name": "python3"
  },
  "language_info": {
   "codemirror_mode": {
    "name": "ipython",
    "version": 3
   },
   "file_extension": ".py",
   "mimetype": "text/x-python",
   "name": "python",
   "nbconvert_exporter": "python",
   "pygments_lexer": "ipython3",
   "version": "3.11.9"
  }
 },
 "nbformat": 4,
 "nbformat_minor": 5
}
